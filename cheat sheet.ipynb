{
 "cells": [
  {
   "cell_type": "markdown",
   "metadata": {},
   "source": [
    "# printの使い方"
   ]
  },
  {
   "cell_type": "code",
   "execution_count": null,
   "metadata": {
    "collapsed": true
   },
   "outputs": [],
   "source": [
    "#printの使い方\n",
    "print(3.2*4.5)"
   ]
  },
  {
   "cell_type": "code",
   "execution_count": 6,
   "metadata": {
    "collapsed": false
   },
   "outputs": [
    {
     "name": "stdout",
     "output_type": "stream",
     "text": [
      "12\n"
     ]
    }
   ],
   "source": [
    "#型は自動推定\n",
    "a = 3.2\n",
    "b = 4.5\n",
    "\n",
    "print(a*b)"
   ]
  },
  {
   "cell_type": "code",
   "execution_count": null,
   "metadata": {
    "collapsed": true
   },
   "outputs": [],
   "source": []
  },
  {
   "cell_type": "markdown",
   "metadata": {},
   "source": [
    "# 入力の仕方"
   ]
  },
  {
   "cell_type": "code",
   "execution_count": 16,
   "metadata": {
    "collapsed": false
   },
   "outputs": [
    {
     "name": "stdout",
     "output_type": "stream",
     "text": [
      "False\n",
      "True\n",
      "True\n"
     ]
    }
   ],
   "source": [
    "#inputの中のテキストはただの注記\n",
    "a = input(\"enter a number >\")\n",
    "\n",
    "#入力されたものはstr型であるため，数字として処理しようとすると変なことになる\n",
    "print(5*a)\n",
    "#念のため型をちゃんと調べてみる\n",
    "print(a,type(a))\n",
    "#入力された変数をキャスト演算子にかければ数字として処理できる\n",
    "print(5*int(a))"
   ]
  },
  {
   "cell_type": "code",
   "execution_count": null,
   "metadata": {
    "collapsed": true
   },
   "outputs": [],
   "source": []
  },
  {
   "cell_type": "markdown",
   "metadata": {},
   "source": [
    "# 演算子"
   ]
  },
  {
   "cell_type": "code",
   "execution_count": 1,
   "metadata": {
    "collapsed": false
   },
   "outputs": [
    {
     "name": "stdout",
     "output_type": "stream",
     "text": [
      "400\n"
     ]
    }
   ],
   "source": [
    "#2乗\n",
    "print(20**2)"
   ]
  },
  {
   "cell_type": "code",
   "execution_count": 2,
   "metadata": {
    "collapsed": false
   },
   "outputs": [
    {
     "name": "stdout",
     "output_type": "stream",
     "text": [
      "5\n"
     ]
    }
   ],
   "source": [
    "# += も使える\n",
    "a = 0\n",
    "a += 5\n",
    "print(a)"
   ]
  },
  {
   "cell_type": "code",
   "execution_count": null,
   "metadata": {
    "collapsed": true
   },
   "outputs": [],
   "source": [
    "#文章を書くかの如く扱えてしまう\n",
    "print(5 is 6)\n",
    "print(5 is not 7)\n",
    "print(\"atsuo\" is not \"shigeki\")"
   ]
  },
  {
   "cell_type": "code",
   "execution_count": null,
   "metadata": {
    "collapsed": true
   },
   "outputs": [],
   "source": []
  },
  {
   "cell_type": "markdown",
   "metadata": {},
   "source": [
    "# importの仕方"
   ]
  },
  {
   "cell_type": "code",
   "execution_count": 3,
   "metadata": {
    "collapsed": false
   },
   "outputs": [
    {
     "name": "stdout",
     "output_type": "stream",
     "text": [
      "6.283185307179586\n"
     ]
    }
   ],
   "source": [
    "#importの仕方その1\n",
    "import numpy \n",
    "\n",
    "print(numpy.pi*2)"
   ]
  },
  {
   "cell_type": "code",
   "execution_count": null,
   "metadata": {
    "collapsed": true
   },
   "outputs": [],
   "source": [
    "#importの仕方その2\n",
    "import numpy as np\n",
    "\n",
    "print(np.pi*2)"
   ]
  },
  {
   "cell_type": "code",
   "execution_count": 5,
   "metadata": {
    "collapsed": false
   },
   "outputs": [
    {
     "name": "stdout",
     "output_type": "stream",
     "text": [
      "6.283185307179586\n"
     ]
    }
   ],
   "source": [
    "#importの仕方その3\n",
    "from numpy import pi\n",
    "\n",
    "print(pi*2)"
   ]
  },
  {
   "cell_type": "code",
   "execution_count": 3,
   "metadata": {
    "collapsed": false
   },
   "outputs": [
    {
     "name": "stdout",
     "output_type": "stream",
     "text": [
      "enter a number > 7.6\n",
      "8\n"
     ]
    }
   ],
   "source": [
    "#おまけ　課題1　四捨五入の関数\n",
    "import math\n",
    "\n",
    "def SG(number):#\"S\"hisha\"G\"onyu\n",
    "    fdp = number - math.floor(number)#fdp = first decimal place\n",
    "    if fdp < 0:\n",
    "        print(\"something goes wrong\")\n",
    "    elif fdp >= 0.5:\n",
    "        result = math.floor(number) + 1\n",
    "    else:\n",
    "        result = math.floor(number)\n",
    "    return result\n",
    "\n",
    "input_num = float(input(\"enter a number > \"))\n",
    "\n",
    "print(SG(input_num))"
   ]
  },
  {
   "cell_type": "code",
   "execution_count": null,
   "metadata": {
    "collapsed": true
   },
   "outputs": [],
   "source": []
  },
  {
   "cell_type": "markdown",
   "metadata": {},
   "source": [
    "# forの使い方 (動的配列込み)"
   ]
  },
  {
   "cell_type": "code",
   "execution_count": 22,
   "metadata": {
    "collapsed": false
   },
   "outputs": [
    {
     "name": "stdout",
     "output_type": "stream",
     "text": [
      "[0, 1, 2, 3, 4, 5, 6, 7, 8, 9, 10, 11, 12, 13, 14, 15, 16, 17, 18, 19]\n"
     ]
    }
   ],
   "source": [
    "#C言語ではメモリの確保だとか解放だとかをしないといけなかったけれども，pythonでは全く必要ない\n",
    "a = []\n",
    "\n",
    "#for文はこれがフォーマットとして考えてもらえればよい．\n",
    "#大事なのは : と改行後のインデント\n",
    "#インデントを削除するとコンパイルできなくなる\n",
    "for i in range(20):\n",
    "    a.append(i)\n",
    "\n",
    "print(a)"
   ]
  },
  {
   "cell_type": "code",
   "execution_count": 18,
   "metadata": {
    "collapsed": false
   },
   "outputs": [
    {
     "name": "stdout",
     "output_type": "stream",
     "text": [
      "[0, 4, 8, 12, 16, 20, 24, 28, 32, 36, 40, 44, 48, 52, 56, 60, 64, 68, 72, 76]\n"
     ]
    }
   ],
   "source": [
    "#内包的処理\n",
    "\n",
    "a = [i*4 for i in range(20)]\n",
    "print(a)"
   ]
  },
  {
   "cell_type": "code",
   "execution_count": null,
   "metadata": {
    "collapsed": true
   },
   "outputs": [],
   "source": []
  },
  {
   "cell_type": "markdown",
   "metadata": {},
   "source": [
    "# csvの読み方，書き方(ゼミ課題をベースに（線形回帰）)"
   ]
  },
  {
   "cell_type": "code",
   "execution_count": 1,
   "metadata": {
    "collapsed": false
   },
   "outputs": [
    {
     "name": "stdout",
     "output_type": "stream",
     "text": [
      "0    1\n",
      "1    2\n",
      "2    3\n",
      "3    4\n",
      "4    5\n",
      "5    6\n",
      "Name: x, dtype: int64\n",
      "0     2.2\n",
      "1     3.8\n",
      "2     6.5\n",
      "3     8.0\n",
      "4    11.0\n",
      "5    11.5\n",
      "Name: y, dtype: float64\n"
     ]
    }
   ],
   "source": [
    "#pandasは統計処理だとかデータ整理によくつかわれるライブラリ\n",
    "import pandas as pd\n",
    "\n",
    "f = pd.read_csv(\"kadai6.csv\")\n",
    "#ヘッダが大事\n",
    "x = f[\"x\"]\n",
    "y = f[\"y\"]\n",
    "\n",
    "print(x)\n",
    "print(y)"
   ]
  },
  {
   "cell_type": "code",
   "execution_count": 3,
   "metadata": {
    "collapsed": false
   },
   "outputs": [
    {
     "name": "stdout",
     "output_type": "stream",
     "text": [
      "[ 1.98857143  0.20666667]\n"
     ]
    }
   ],
   "source": [
    "import pandas as pd\n",
    "import numpy as np\n",
    "\n",
    "f = pd.read_csv(\"kadai6.csv\")\n",
    "x = f[\"x\"]\n",
    "y = f[\"y\"]\n",
    "\n",
    "#プレゼンで紹介したnumpyの多項式近似の関数\n",
    "d = np.polyfit(x,y,1)\n",
    "\n",
    "print(d)"
   ]
  },
  {
   "cell_type": "code",
   "execution_count": null,
   "metadata": {
    "collapsed": true
   },
   "outputs": [],
   "source": []
  },
  {
   "cell_type": "markdown",
   "metadata": {},
   "source": [
    "# 二次元グラフの出力"
   ]
  },
  {
   "cell_type": "code",
   "execution_count": 4,
   "metadata": {
    "collapsed": false
   },
   "outputs": [
    {
     "data": {
      "image/png": "[encoded data removed]",
      "text/plain": [
       "<matplotlib.figure.Figure at 0x8112e48>"
      ]
     },
     "metadata": {},
     "output_type": "display_data"
    },
    {
     "name": "stdout",
     "output_type": "stream",
     "text": [
      "[ 1.98857143  0.20666667]\n"
     ]
    }
   ],
   "source": [
    "import pandas as pd\n",
    "import numpy as np\n",
    "import matplotlib.pyplot as plt\n",
    "\n",
    "f = pd.read_csv(\"kadai6.csv\")\n",
    "x = f[\"x\"]\n",
    "y = f[\"y\"]\n",
    "\n",
    "d = np.polyfit(x,y,1)\n",
    "#p = np.poly1d(d)\n",
    "xsamp = np.linspace(0,8,50)\n",
    "\n",
    "plt.figure()\n",
    "plt.plot(x,y,\"o\")\n",
    "plt.plot(xsamp,d[0]*xsamp+d[1],\"-\")\n",
    "#plt.plot(xsamp,p(xsamp),\"-\")\n",
    "\n",
    "plt.show()\n",
    "print(d)"
   ]
  },
  {
   "cell_type": "code",
   "execution_count": 5,
   "metadata": {
    "collapsed": false
   },
   "outputs": [
    {
     "data": {
      "image/png": "[encoded data removed]",
      "text/plain": [
       "<matplotlib.figure.Figure at 0xb074e48>"
      ]
     },
     "metadata": {},
     "output_type": "display_data"
    },
    {
     "name": "stdout",
     "output_type": "stream",
     "text": [
      "[ 1.98857143  0.20666667]\n"
     ]
    }
   ],
   "source": [
    "import pandas as pd\n",
    "import numpy as np\n",
    "import matplotlib.pyplot as plt\n",
    "#pip install と　conda install を試しにやってみる\n",
    "#anaconda3 > scriptsにディレクトリを移動すればつかえるはず\n",
    "import seaborn \n",
    "\n",
    "f = pd.read_csv(\"kadai6.csv\")\n",
    "x = f[\"x\"]\n",
    "y = f[\"y\"]\n",
    "\n",
    "d = np.polyfit(x,y,1)\n",
    "#p = np.poly1d(d)\n",
    "xsamp = np.linspace(0,8,50)\n",
    "\n",
    "plt.figure()\n",
    "plt.plot(x,y,\"o\")\n",
    "plt.plot(xsamp,d[0]*xsamp+d[1],\"-\")\n",
    "#plt.plot(xsamp,p(xsamp),\"-\")\n",
    "\n",
    "plt.show()\n",
    "print(d)"
   ]
  },
  {
   "cell_type": "code",
   "execution_count": null,
   "metadata": {
    "collapsed": true
   },
   "outputs": [],
   "source": []
  },
  {
   "cell_type": "markdown",
   "metadata": {},
   "source": [
    "# Numpy"
   ]
  },
  {
   "cell_type": "code",
   "execution_count": 4,
   "metadata": {
    "collapsed": false
   },
   "outputs": [
    {
     "name": "stdout",
     "output_type": "stream",
     "text": [
      "11\n",
      "[ 0  0 -2]\n"
     ]
    }
   ],
   "source": [
    "import numpy as np\n",
    "\n",
    "a = np.array([1,2,0])\n",
    "b = np.array([3,4,0])\n",
    "\n",
    "print(np.dot(a,b))\n",
    "print(np.cross(a,b))"
   ]
  },
  {
   "cell_type": "code",
   "execution_count": 7,
   "metadata": {
    "collapsed": false
   },
   "outputs": [
    {
     "name": "stdout",
     "output_type": "stream",
     "text": [
      "[[-0.37179487  0.11538462  0.1025641 ]\n",
      " [ 0.78205128 -0.34615385  0.02564103]\n",
      " [-0.06410256  0.19230769 -0.05128205]]\n",
      "[[  1.00000000e+00  -1.11022302e-16   2.77555756e-17]\n",
      " [  2.22044605e-16   1.00000000e+00   0.00000000e+00]\n",
      " [ -1.38777878e-16   0.00000000e+00   1.00000000e+00]]\n"
     ]
    }
   ],
   "source": [
    "import numpy as np\n",
    "\n",
    "a = np.array([[1,2,3],\n",
    "              [3,2,7],\n",
    "              [10,5,3]])\n",
    "b = np.linalg.inv(a)\n",
    "\n",
    "c = np.dot(a,b)\n",
    "\n",
    "print(b)\n",
    "print(c)"
   ]
  },
  {
   "cell_type": "code",
   "execution_count": null,
   "metadata": {
    "collapsed": true
   },
   "outputs": [],
   "source": []
  },
  {
   "cell_type": "markdown",
   "metadata": {},
   "source": [
    "# Sympy"
   ]
  },
  {
   "cell_type": "code",
   "execution_count": 2,
   "metadata": {
    "collapsed": false
   },
   "outputs": [
    {
     "data": {
      "image/png": "[encoded data removed]",
      "text/latex": [
       "$$x^{2} + 2 x y + y^{2}$$"
      ],
      "text/plain": [
       " 2            2\n",
       "x  + 2⋅x⋅y + y "
      ]
     },
     "execution_count": 2,
     "metadata": {},
     "output_type": "execute_result"
    }
   ],
   "source": [
    "import sympy\n",
    "sympy.init_printing()\n",
    "\n",
    "x,y = sympy.symbols(\"x,y\")\n",
    "\n",
    "x**2 + 2*x*y + y**2"
   ]
  },
  {
   "cell_type": "code",
   "execution_count": 1,
   "metadata": {
    "collapsed": false
   },
   "outputs": [
    {
     "data": {
      "text/plain": [
       "(x1**2*y2 - x1**2*y3 - x2**2*y1 + x2**2*y3 + x3**2*y1 - x3**2*y2)/(2*(x1*y2 - x1*y3 - x2*y1 + x2*y3 + x3*y1 - x3*y2))"
      ]
     },
     "execution_count": 1,
     "metadata": {},
     "output_type": "execute_result"
    }
   ],
   "source": [
    "import sympy\n",
    "sympy.init_printing()\n",
    "\n",
    "x1,y1 = sympy.symbols(\"x1,y1\")\n",
    "x2,y2 = sympy.symbols(\"x2,y2\")\n",
    "x3,y3 = sympy.symbols(\"x3,y3\")\n",
    "\n",
    "Y = sympy.Matrix([y1,y2,y3])\n",
    "X = sympy.Matrix([[x1*x1, x1 ,1],\n",
    "                  [x2*x2, x2, 1],\n",
    "                  [x3*x3, x3, 1]])\n",
    "\n",
    "Xinv = X.inv()\n",
    "AnsMat = Xinv.dot(Y)\n",
    "\n",
    "Ans = -AnsMat[1]/2/AnsMat[0]\n",
    "\n",
    "sympy.simplify(Ans)"
   ]
  },
  {
   "cell_type": "code",
   "execution_count": 4,
   "metadata": {
    "collapsed": false
   },
   "outputs": [
    {
     "data": {
      "image/png": "[encoded data removed]",
      "text/plain": [
       "<matplotlib.figure.Figure at 0x8b3a940>"
      ]
     },
     "metadata": {},
     "output_type": "display_data"
    }
   ],
   "source": [
    "import sympy\n",
    "import numpy as np\n",
    "import matplotlib.pyplot as plt\n",
    "#sympy.init_printing()\n",
    "\n",
    "x1,y1 = sympy.symbols(\"x1,y1\")\n",
    "x2,y2 = sympy.symbols(\"x2,y2\")\n",
    "x3,y3 = sympy.symbols(\"x3,y3\")\n",
    "\n",
    "Y = sympy.Matrix([y1,y2,y3])\n",
    "X = sympy.Matrix([[x1*x1, x1 ,1],\n",
    "                  [x2*x2, x2, 1],\n",
    "                  [x3*x3, x3, 1]])\n",
    "\n",
    "Xinv = X.inv()\n",
    "AnsMat = Xinv.dot(Y)\n",
    "\n",
    "def fsubs(x,y):\n",
    "    res = []\n",
    "    res.append(AnsMat[0].subs([(x1,x[0]),(x2,x[1]),(x3,x[2]),(y1,y[0]),(y2,y[1]),(y3,y[2])]))\n",
    "    res.append(AnsMat[1].subs([(x1,x[0]),(x2,x[1]),(x3,x[2]),(y1,y[0]),(y2,y[1]),(y3,y[2])]))\n",
    "    res.append(AnsMat[2].subs([(x1,x[0]),(x2,x[1]),(x3,x[2]),(y1,y[0]),(y2,y[1]),(y3,y[2])]))\n",
    "    return res\n",
    "\n",
    "x = [1,2,3]\n",
    "y = [4,6,12]\n",
    "coef = fsubs(x,y)\n",
    "xrange = np.linspace(0,3,50)\n",
    "yrange = np.linspace(0,3,50)\n",
    "\n",
    "for i in range(len(xrange)):\n",
    "    yrange[i] = coef[0]*xrange[i]**2 + coef[1]*xrange[i] + coef[2]\n",
    "    \n",
    "\n",
    "plt.figure()\n",
    "plt.plot(x,y,\"o\")\n",
    "plt.plot(xrange,yrange)\n",
    "plt.xlim(0,4)\n",
    "plt.ylim(0,14)\n",
    "plt.show()\n",
    "         "
   ]
  },
  {
   "cell_type": "code",
   "execution_count": null,
   "metadata": {
    "collapsed": true
   },
   "outputs": [],
   "source": []
  },
  {
   "cell_type": "markdown",
   "metadata": {},
   "source": [
    "# Scipy"
   ]
  },
  {
   "cell_type": "code",
   "execution_count": 13,
   "metadata": {
    "collapsed": false
   },
   "outputs": [
    {
     "data": {
      "image/png": "[encoded data removed]",
      "text/plain": [
       "<matplotlib.figure.Figure at 0x8cb5b70>"
      ]
     },
     "metadata": {},
     "output_type": "display_data"
    }
   ],
   "source": [
    "import numpy as np\n",
    "import scipy\n",
    "import matplotlib.pyplot as plt\n",
    "\n",
    "x = np.linspace(0,20,100)\n",
    "y = np.sin(x) + np.random.rand(len(x))\n",
    "\n",
    "plt.figure()\n",
    "plt.plot(x,y)\n",
    "plt.show()"
   ]
  },
  {
   "cell_type": "code",
   "execution_count": 6,
   "metadata": {
    "collapsed": false
   },
   "outputs": [
    {
     "data": {
      "image/png": "[encoded data removed]",
      "text/plain": [
       "<matplotlib.figure.Figure at 0x4d27780>"
      ]
     },
     "metadata": {},
     "output_type": "display_data"
    }
   ],
   "source": [
    "import numpy as np\n",
    "from scipy.fftpack import fft,fftfreq\n",
    "import matplotlib.pyplot as plt\n",
    "\n",
    "N = 128\n",
    "T = 5\n",
    "dT = T/N\n",
    "\n",
    "x = np.linspace(0,T,N)\n",
    "y = 10*np.sin(2*np.pi*x) + 3*np.random.rand(N)\n",
    "\n",
    "A = fft(y)\n",
    "Af = 2*np.abs(A)/N\n",
    "Freq = fftfreq(N,dT)\n",
    "\n",
    "plt.subplot(2,1,1)\n",
    "plt.xlim(0,5)\n",
    "plt.plot(Freq,Af)\n",
    "plt.subplot(2,1,2)\n",
    "plt.xlim(0,T)\n",
    "plt.plot(x,y)\n",
    "plt.show()"
   ]
  },
  {
   "cell_type": "code",
   "execution_count": null,
   "metadata": {
    "collapsed": true
   },
   "outputs": [],
   "source": []
  },
  {
   "cell_type": "markdown",
   "metadata": {},
   "source": [
    "# おまけ：あたすのRSJ"
   ]
  },
  {
   "cell_type": "code",
   "execution_count": 2,
   "metadata": {
    "collapsed": false
   },
   "outputs": [
    {
     "name": "stdout",
     "output_type": "stream",
     "text": [
      "[-1980.69215737  1034.62663782   -18.97212567]\n"
     ]
    },
    {
     "data": {
      "image/png": "[encoded data removed]",
      "text/plain": [
       "<matplotlib.figure.Figure at 0x8f5a8d0>"
      ]
     },
     "metadata": {},
     "output_type": "display_data"
    }
   ],
   "source": [
    "import pandas as pd\n",
    "from scipy import optimize\n",
    "import matplotlib.pyplot as plt\n",
    "import numpy as np\n",
    "\n",
    "F = pd.read_csv(\"curve fitting_tv.csv\")\n",
    "\n",
    "xdata = F[\"t\"]\n",
    "ydata = F[\"v\"]\n",
    "\n",
    "d = np.polyfit(xdata,ydata,2)\n",
    "p = np.poly1d(d)\n",
    "x = np.linspace(0,len(ydata)/60,len(ydata))\n",
    "\n",
    "print(d)\n",
    "\n",
    "plt.plot(xdata, ydata, 'o')\n",
    "plt.plot(x, p(x), '-')\n",
    "\n",
    "plt.show()"
   ]
  },
  {
   "cell_type": "code",
   "execution_count": 5,
   "metadata": {
    "collapsed": false
   },
   "outputs": [
    {
     "name": "stdout",
     "output_type": "stream",
     "text": [
      "[[ 0.59843331 -0.01661493  0.01554764]\n",
      " [-0.01661493  0.06389939 -0.0152022 ]\n",
      " [ 0.01554764 -0.0152022   0.00386967]]\n"
     ]
    },
    {
     "data": {
      "image/png": "[encoded data removed]",
      "text/plain": [
       "<matplotlib.figure.Figure at 0x9ad13c8>"
      ]
     },
     "metadata": {},
     "output_type": "display_data"
    }
   ],
   "source": [
    "import pandas as pd\n",
    "from scipy import optimize\n",
    "import matplotlib.pyplot as plt\n",
    "import numpy as np\n",
    "\n",
    "def func(x, a, b, c):#変数の数変えたらここも変える\n",
    "    ans = a /( b*x*x + c*x +1)\n",
    "    return ans\n",
    "\n",
    "F = pd.read_csv(\"curve fitting_tv.csv\")\n",
    "\n",
    "xdata = F[\"t\"]\n",
    "ydata = F[\"v\"]\n",
    "\n",
    "parameter_optimal, covariance = optimize.curve_fit(func, xdata, ydata)\n",
    "print(covariance)\n",
    "\n",
    "x = np.linspace(0,len(ydata)/60,len(ydata))\n",
    "y = func(x,parameter_optimal[0],parameter_optimal[1],parameter_optimal[2])#変数の数変えたらここも変える\n",
    "\n",
    "\n",
    "plt.plot(xdata, ydata, 'o')\n",
    "plt.plot(x, y, '-')\n",
    "\n",
    "plt.show()"
   ]
  },
  {
   "cell_type": "code",
   "execution_count": null,
   "metadata": {
    "collapsed": true
   },
   "outputs": [],
   "source": []
  },
  {
   "cell_type": "code",
   "execution_count": null,
   "metadata": {
    "collapsed": true
   },
   "outputs": [],
   "source": []
  },
  {
   "cell_type": "code",
   "execution_count": null,
   "metadata": {
    "collapsed": true
   },
   "outputs": [],
   "source": []
  }
 ],
 "metadata": {
  "anaconda-cloud": {},
  "kernelspec": {
   "display_name": "Python [conda root]",
   "language": "python",
   "name": "conda-root-py"
  },
  "language_info": {
   "codemirror_mode": {
    "name": "ipython",
    "version": 3
   },
   "file_extension": ".py",
   "mimetype": "text/x-python",
   "name": "python",
   "nbconvert_exporter": "python",
   "pygments_lexer": "ipython3",
   "version": "3.5.2"
  }
 },
 "nbformat": 4,
 "nbformat_minor": 1
}
